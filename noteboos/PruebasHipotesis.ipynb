{
 "cells": [
  {
   "cell_type": "code",
   "execution_count": 4,
   "id": "b14f0d61-546d-40b5-bd67-9b03a4c38d5a",
   "metadata": {},
   "outputs": [],
   "source": [
    "import pandas as pd\n",
    "import numpy as np\n",
    "from sklearn.model_selection import train_test_split\n",
    "import statsmodels.api as sm\n",
    "from sklearn.metrics import r2_score\n",
    "from sklearn import metrics\n",
    "\n",
    "import warnings\n",
    "warnings.filterwarnings(\"ignore\")\n",
    "\n",
    "import os\n",
    "os.chdir(\"E:/EBAC/Material/10 - Modelos de regresión lineal y series de tiempo\")"
   ]
  },
  {
   "cell_type": "code",
   "execution_count": 5,
   "id": "f0e0c45e-9567-4bf5-b7d4-1b3bd0811e2f",
   "metadata": {},
   "outputs": [],
   "source": [
    "data_house = pd.read_csv(\"kc_house_data.csv\")"
   ]
  },
  {
   "cell_type": "code",
   "execution_count": 6,
   "id": "88be3718-5fc4-42ec-b650-aa21d56b4328",
   "metadata": {},
   "outputs": [
    {
     "name": "stdout",
     "output_type": "stream",
     "text": [
      "(21613, 15)\n"
     ]
    },
    {
     "data": {
      "text/html": [
       "<div>\n",
       "<style scoped>\n",
       "    .dataframe tbody tr th:only-of-type {\n",
       "        vertical-align: middle;\n",
       "    }\n",
       "\n",
       "    .dataframe tbody tr th {\n",
       "        vertical-align: top;\n",
       "    }\n",
       "\n",
       "    .dataframe thead th {\n",
       "        text-align: right;\n",
       "    }\n",
       "</style>\n",
       "<table border=\"1\" class=\"dataframe\">\n",
       "  <thead>\n",
       "    <tr style=\"text-align: right;\">\n",
       "      <th></th>\n",
       "      <th>Intercepto</th>\n",
       "      <th>price</th>\n",
       "      <th>bedrooms</th>\n",
       "      <th>bathrooms</th>\n",
       "      <th>sqft_living</th>\n",
       "      <th>sqft_lot</th>\n",
       "      <th>floors</th>\n",
       "      <th>waterfront</th>\n",
       "      <th>view</th>\n",
       "      <th>condition</th>\n",
       "      <th>grade</th>\n",
       "      <th>sqft_above</th>\n",
       "      <th>yr_built</th>\n",
       "      <th>sqft_living15</th>\n",
       "      <th>sqft_lot15</th>\n",
       "    </tr>\n",
       "  </thead>\n",
       "  <tbody>\n",
       "    <tr>\n",
       "      <th>0</th>\n",
       "      <td>1</td>\n",
       "      <td>221900.0</td>\n",
       "      <td>3</td>\n",
       "      <td>1.00</td>\n",
       "      <td>1180</td>\n",
       "      <td>5650</td>\n",
       "      <td>1.0</td>\n",
       "      <td>0</td>\n",
       "      <td>0</td>\n",
       "      <td>3</td>\n",
       "      <td>7</td>\n",
       "      <td>1180</td>\n",
       "      <td>1955</td>\n",
       "      <td>1340</td>\n",
       "      <td>5650</td>\n",
       "    </tr>\n",
       "    <tr>\n",
       "      <th>1</th>\n",
       "      <td>1</td>\n",
       "      <td>538000.0</td>\n",
       "      <td>3</td>\n",
       "      <td>2.25</td>\n",
       "      <td>2570</td>\n",
       "      <td>7242</td>\n",
       "      <td>2.0</td>\n",
       "      <td>0</td>\n",
       "      <td>0</td>\n",
       "      <td>3</td>\n",
       "      <td>7</td>\n",
       "      <td>2170</td>\n",
       "      <td>1951</td>\n",
       "      <td>1690</td>\n",
       "      <td>7639</td>\n",
       "    </tr>\n",
       "    <tr>\n",
       "      <th>2</th>\n",
       "      <td>1</td>\n",
       "      <td>180000.0</td>\n",
       "      <td>2</td>\n",
       "      <td>1.00</td>\n",
       "      <td>770</td>\n",
       "      <td>10000</td>\n",
       "      <td>1.0</td>\n",
       "      <td>0</td>\n",
       "      <td>0</td>\n",
       "      <td>3</td>\n",
       "      <td>6</td>\n",
       "      <td>770</td>\n",
       "      <td>1933</td>\n",
       "      <td>2720</td>\n",
       "      <td>8062</td>\n",
       "    </tr>\n",
       "    <tr>\n",
       "      <th>3</th>\n",
       "      <td>1</td>\n",
       "      <td>604000.0</td>\n",
       "      <td>4</td>\n",
       "      <td>3.00</td>\n",
       "      <td>1960</td>\n",
       "      <td>5000</td>\n",
       "      <td>1.0</td>\n",
       "      <td>0</td>\n",
       "      <td>0</td>\n",
       "      <td>5</td>\n",
       "      <td>7</td>\n",
       "      <td>1050</td>\n",
       "      <td>1965</td>\n",
       "      <td>1360</td>\n",
       "      <td>5000</td>\n",
       "    </tr>\n",
       "    <tr>\n",
       "      <th>4</th>\n",
       "      <td>1</td>\n",
       "      <td>510000.0</td>\n",
       "      <td>3</td>\n",
       "      <td>2.00</td>\n",
       "      <td>1680</td>\n",
       "      <td>8080</td>\n",
       "      <td>1.0</td>\n",
       "      <td>0</td>\n",
       "      <td>0</td>\n",
       "      <td>3</td>\n",
       "      <td>8</td>\n",
       "      <td>1680</td>\n",
       "      <td>1987</td>\n",
       "      <td>1800</td>\n",
       "      <td>7503</td>\n",
       "    </tr>\n",
       "  </tbody>\n",
       "</table>\n",
       "</div>"
      ],
      "text/plain": [
       "   Intercepto     price  bedrooms  bathrooms  sqft_living  sqft_lot  floors  \\\n",
       "0           1  221900.0         3       1.00         1180      5650     1.0   \n",
       "1           1  538000.0         3       2.25         2570      7242     2.0   \n",
       "2           1  180000.0         2       1.00          770     10000     1.0   \n",
       "3           1  604000.0         4       3.00         1960      5000     1.0   \n",
       "4           1  510000.0         3       2.00         1680      8080     1.0   \n",
       "\n",
       "   waterfront  view  condition  grade  sqft_above  yr_built  sqft_living15  \\\n",
       "0           0     0          3      7        1180      1955           1340   \n",
       "1           0     0          3      7        2170      1951           1690   \n",
       "2           0     0          3      6         770      1933           2720   \n",
       "3           0     0          5      7        1050      1965           1360   \n",
       "4           0     0          3      8        1680      1987           1800   \n",
       "\n",
       "   sqft_lot15  \n",
       "0        5650  \n",
       "1        7639  \n",
       "2        8062  \n",
       "3        5000  \n",
       "4        7503  "
      ]
     },
     "execution_count": 6,
     "metadata": {},
     "output_type": "execute_result"
    }
   ],
   "source": [
    "data_house[\"Intercepto\"] = 1\n",
    "data_house = data_house[[\"Intercepto\", \"price\", \"bedrooms\", \"bathrooms\", \"sqft_living\", \"sqft_lot\", \"floors\", \"waterfront\", \"view\", \"condition\", \"grade\", \"sqft_above\", \"yr_built\", \"sqft_living15\", \"sqft_lot15\"]]\n",
    "print(data_house.shape)\n",
    "data_house.head()"
   ]
  },
  {
   "cell_type": "code",
   "execution_count": 7,
   "id": "adaf0b2f-997e-4d6b-9cb8-0fd9f7ebc7bf",
   "metadata": {},
   "outputs": [],
   "source": [
    "Xdata = data_house[[\"Intercepto\", \"bedrooms\", \"bathrooms\", \"sqft_living\", \"waterfront\", \"view\", \"condition\", \"grade\", \"sqft_lot\", \"floors\", \"sqft_above\", \"yr_built\", \"sqft_living15\", \"sqft_lot15\"]].values\n",
    "Ydata = data_house[[\"price\"]].values\n",
    "\n",
    "X_train, X_test, Y_train, Y_test = train_test_split(Xdata, Ydata, test_size = 0.30, random_state=1)\n",
    "X = X_train\n",
    "Y = Y_train"
   ]
  },
  {
   "cell_type": "code",
   "execution_count": 8,
   "id": "674be318-6390-4a21-817e-a2565e57e864",
   "metadata": {},
   "outputs": [],
   "source": [
    "# Opcion de formato numerico\n",
    "np.set_printoptions(formatter={'float_kind':'{:f}'.format})\n",
    "\n",
    "XT_X = np.matmul(np.matrix.transpose(X), X)\n",
    "\n",
    "XT_X_inv = np.linalg.inv(XT_X)\n",
    "\n",
    "XT_Y = np.matmul(np.matrix.transpose(X), Y)"
   ]
  },
  {
   "cell_type": "code",
   "execution_count": 9,
   "id": "e7eb18d0-54f7-4941-a649-f5997ac5e568",
   "metadata": {},
   "outputs": [
    {
     "data": {
      "text/plain": [
       "array([[6233524.831323],\n",
       "       [-34981.645716],\n",
       "       [44452.053283],\n",
       "       [159.083283],\n",
       "       [567566.675566],\n",
       "       [41728.788872],\n",
       "       [17099.355296],\n",
       "       [119256.271171],\n",
       "       [-0.020600],\n",
       "       [30359.292761],\n",
       "       [-5.053054],\n",
       "       [-3584.174161],\n",
       "       [23.321091],\n",
       "       [-0.485498]])"
      ]
     },
     "execution_count": 9,
     "metadata": {},
     "output_type": "execute_result"
    }
   ],
   "source": [
    "betas = np.matmul(XT_X_inv, XT_Y)\n",
    "betas"
   ]
  },
  {
   "cell_type": "code",
   "execution_count": 10,
   "id": "c29c22c2-9dca-407b-8740-f49b7b27000a",
   "metadata": {},
   "outputs": [
    {
     "data": {
      "text/plain": [
       "array([[1900668073054776.000000]])"
      ]
     },
     "execution_count": 10,
     "metadata": {},
     "output_type": "execute_result"
    }
   ],
   "source": [
    "# Calculo de TSS (Suma total de cuadrados)\n",
    "TSS = np.matmul(np.matrix.transpose(Y), Y) - len(Y)*(Y.mean()**2)\n",
    "TSS"
   ]
  },
  {
   "cell_type": "code",
   "execution_count": 11,
   "id": "ce0b1af2-cfd8-4e4b-a2dd-14b0261b3f86",
   "metadata": {},
   "outputs": [
    {
     "data": {
      "text/plain": [
       "array([[1240221837700666.000000]])"
      ]
     },
     "execution_count": 11,
     "metadata": {},
     "output_type": "execute_result"
    }
   ],
   "source": [
    "# Calculo del ESS (Suma explicada de cuadrados)\n",
    "ESS = np.matmul(np.matmul(np.matrix.transpose(betas), np.matrix.transpose(X)), np.matmul(X,betas)) - len(Y)*(Y.mean()**2)\n",
    "ESS"
   ]
  },
  {
   "cell_type": "code",
   "execution_count": 12,
   "id": "b66ab787-0cf6-44f6-8744-42e9239b469a",
   "metadata": {},
   "outputs": [
    {
     "data": {
      "text/plain": [
       "array([[660446235354110.000000]])"
      ]
     },
     "execution_count": 12,
     "metadata": {},
     "output_type": "execute_result"
    }
   ],
   "source": [
    "# Calculo de RSS (Residuales al Cuadrado)\n",
    "RSS = TSS - ESS\n",
    "RSS"
   ]
  },
  {
   "cell_type": "code",
   "execution_count": 19,
   "id": "216e1af4-f25e-4dc6-a6b6-0923ac282946",
   "metadata": {},
   "outputs": [
    {
     "data": {
      "text/plain": [
       "0.6525188986351347"
      ]
     },
     "execution_count": 19,
     "metadata": {},
     "output_type": "execute_result"
    }
   ],
   "source": [
    "# Calculo del Coeficiente de Detminacion R Cuadrada\n",
    "RSq = float(1 - RSS / TSS)\n",
    "RSq"
   ]
  },
  {
   "cell_type": "code",
   "execution_count": 20,
   "id": "bcb875a4-ba43-4fba-bc5f-ef34204c1b37",
   "metadata": {},
   "outputs": [
    {
     "data": {
      "text/plain": [
       "0.6522200395998886"
      ]
     },
     "execution_count": 20,
     "metadata": {},
     "output_type": "execute_result"
    }
   ],
   "source": [
    "# Calculo del Coeficiente de Determinacion R Cuadrada Ajustada\n",
    "RSqAj = float(1 - (RSS / (X.shape[0] - X.shape[1])) / (TSS / (X.shape[0] - 1)))\n",
    "RSqAj"
   ]
  },
  {
   "cell_type": "code",
   "execution_count": 24,
   "id": "5d19d0a9-3b3f-4cbe-ab00-1be776183154",
   "metadata": {},
   "outputs": [
    {
     "data": {
      "text/plain": [
       "43694755896.083496"
      ]
     },
     "execution_count": 24,
     "metadata": {},
     "output_type": "execute_result"
    }
   ],
   "source": [
    "# Calculo de la varianza del error de regresion\n",
    "s_cuad = RSS / (len(Y) - X.shape[1])\n",
    "s_cuad"
   ]
  },
  {
   "cell_type": "code",
   "execution_count": 25,
   "id": "1a6e66e7-86b5-44f6-a45b-d01994d01b7d",
   "metadata": {},
   "outputs": [
    {
     "data": {
      "text/plain": [
       "209032.90625182318"
      ]
     },
     "execution_count": 25,
     "metadata": {},
     "output_type": "execute_result"
    }
   ],
   "source": [
    "# Desviacion estandar del error de regresion\n",
    "import math\n",
    "s = math.sqrt(s_cuad)\n",
    "s"
   ]
  },
  {
   "cell_type": "code",
   "execution_count": 26,
   "id": "837eae20-05ab-467f-902f-96a5e2037b88",
   "metadata": {},
   "outputs": [
    {
     "data": {
      "text/plain": [
       "[41.26325152043999,\n",
       " -15.139556890112738,\n",
       " 11.106955514750856,\n",
       " 29.236168958086743,\n",
       " 26.5421876398677,\n",
       " 15.882280258335134,\n",
       " 6.004160018070486,\n",
       " 45.67334592756904,\n",
       " -0.3675389909198149,\n",
       " 6.930846880608963,\n",
       " -0.9543341411142678,\n",
       " -46.153163963065325,\n",
       " 5.572924592199558,\n",
       " -5.516880712973117]"
      ]
     },
     "execution_count": 26,
     "metadata": {},
     "output_type": "execute_result"
    }
   ],
   "source": [
    "# Calculo de las t's estadisticas para cada coeficiente de regresion\n",
    "result_t = []\n",
    "for i in range(0, X.shape[1]):\n",
    "    t = float(betas[i] / (s*math.sqrt(XT_X_inv[i][i])))\n",
    "    result_t.append(t)\n",
    "result_t"
   ]
  },
  {
   "cell_type": "markdown",
   "id": "cd3d0296-d51b-40c3-ba01-59dc3511685b",
   "metadata": {},
   "source": [
    "# Criterio 1"
   ]
  },
  {
   "cell_type": "code",
   "execution_count": 27,
   "id": "67afb1dc-9a3c-4514-b0c4-b92dbaff5d79",
   "metadata": {},
   "outputs": [
    {
     "data": {
      "text/plain": [
       "1.9601209450413062"
      ]
     },
     "execution_count": 27,
     "metadata": {},
     "output_type": "execute_result"
    }
   ],
   "source": [
    "# Obtener valor critico de la t de Student de tablas\n",
    "import scipy.stats\n",
    "\n",
    "grados_libertad = len(Y) - X.shape[1]\n",
    "\n",
    "# La t_critica se obtendra a un nivel de confianza del 95% (Alfa = 5%)\n",
    "t_critico = abs(scipy.stats.t.ppf(q=0.025, df = grados_libertad))\n",
    "t_critico"
   ]
  },
  {
   "cell_type": "code",
   "execution_count": 28,
   "id": "c5097422-a709-4f71-aecc-2b2e5fe8f774",
   "metadata": {},
   "outputs": [
    {
     "name": "stdout",
     "output_type": "stream",
     "text": [
      "Beta 0 es significativa\n",
      "Beta 1 es significativa\n",
      "Beta 2 es significativa\n",
      "Beta 3 es significativa\n",
      "Beta 4 es significativa\n",
      "Beta 5 es significativa\n",
      "Beta 6 es significativa\n",
      "Beta 7 es significativa\n",
      "Beta 8 NO es significativa\n",
      "Beta 9 es significativa\n",
      "Beta 10 NO es significativa\n",
      "Beta 11 es significativa\n",
      "Beta 12 es significativa\n",
      "Beta 13 es significativa\n"
     ]
    }
   ],
   "source": [
    "for i in range(0, X.shape[1]):\n",
    "    if (abs(result_t[i]) > t_critico):\n",
    "        print(\"Beta\", i, \"es significativa\") # Aqui se rechaza H0\n",
    "    else:\n",
    "        print(\"Beta\", i, \"NO es significativa\") # Aqui NO se rechaza H0"
   ]
  },
  {
   "cell_type": "markdown",
   "id": "a9ac263b-77cb-4ed0-8408-7253743a1052",
   "metadata": {},
   "source": [
    "# Criterio 2"
   ]
  },
  {
   "cell_type": "code",
   "execution_count": 29,
   "id": "a76b0a19-59c9-4f44-b3b6-bef640f3e58e",
   "metadata": {},
   "outputs": [
    {
     "name": "stdout",
     "output_type": "stream",
     "text": [
      "Valor p de Beta 0 : 0.0\n",
      "Valor p de Beta 1 : 2.1150588856773443e-51\n",
      "Valor p de Beta 2 : 1.4966742060005931e-28\n",
      "Valor p de Beta 3 : 7.912217847692225e-183\n",
      "Valor p de Beta 4 : 9.28317470019821e-152\n",
      "Valor p de Beta 5 : 2.4001519684988917e-56\n",
      "Valor p de Beta 6 : 1.9672858743689154e-09\n",
      "Valor p de Beta 7 : 0.0\n",
      "Valor p de Beta 8 : 0.7132221592075667\n",
      "Valor p de Beta 9 : 4.352519653172579e-12\n",
      "Valor p de Beta 10 : 0.3399297931762092\n",
      "Valor p de Beta 11 : 0.0\n",
      "Valor p de Beta 12 : 2.5477892249271404e-08\n",
      "Valor p de Beta 13 : 3.507380559018111e-08\n"
     ]
    }
   ],
   "source": [
    "# Calculo de valores p\n",
    "for i in range(0, X.shape[1]):\n",
    "    print(\"Valor p de Beta\", i, \":\", scipy.stats.t.sf(abs(result_t[i]), df = grados_libertad) * 2)"
   ]
  },
  {
   "cell_type": "markdown",
   "id": "9980f672-e06f-420a-b4a3-1a76642eaffa",
   "metadata": {},
   "source": [
    "# Criterio 3"
   ]
  },
  {
   "cell_type": "code",
   "execution_count": 30,
   "id": "6615703b-fbd9-4112-92b1-23abfb9b2896",
   "metadata": {},
   "outputs": [
    {
     "name": "stdout",
     "output_type": "stream",
     "text": [
      "El valor de Beta 0 se encuentra entre 5937414.802833049 y 6529634.859813245\n",
      "El valor de Beta 1 se encuentra entre -39510.72519694968 y -30452.566235253114\n",
      "El valor de Beta 2 se encuentra entre 36607.293251724484 y 52296.8133140192\n",
      "El valor de Beta 3 se encuentra entre 148.41764247614748 y 169.7489240087222\n",
      "El valor de Beta 4 se encuentra entre 525652.2959534817 y 609481.0551785405\n",
      "El valor de Beta 5 se encuentra entre 36578.805887782124 y 46878.77185596049\n",
      "El valor de Beta 6 se encuentra entre 11517.091605214675 y 22681.618986712496\n",
      "El valor de Beta 7 se encuentra entre 114138.25955579683 y 124374.28278562266\n",
      "El valor de Beta 8 se encuentra entre -0.13046053937562024 y 0.08926093435069522\n",
      "El valor de Beta 9 se encuentra entre 21773.345525187586 y 38945.239997244294\n",
      "El valor de Beta 10 se encuentra entre -15.431595066357284 y 5.3254876889392\n",
      "El valor de Beta 11 se encuentra entre -3736.3937327474923 y -3431.9545896514683\n",
      "El valor de Beta 12 se encuentra entre 15.118546938188087 y 31.523634734997714\n",
      "El valor de Beta 13 se encuentra entre -0.6579932502218588 y -0.3130029959872027\n"
     ]
    }
   ],
   "source": [
    "# Calculo de intervalos de confianza del 95% para el verdadero valor del coeficiente de cada Beta\n",
    "for i in range(0, X.shape[1]):\n",
    "    print(\"El valor de Beta\", i, \"se encuentra entre\", float(betas[i]) - t_critico * s * math.sqrt(XT_X_inv[i][i]),\n",
    "         \"y\",  float(betas[i]) + t_critico * s * math.sqrt(XT_X_inv[i][i]))"
   ]
  },
  {
   "cell_type": "code",
   "execution_count": 15,
   "id": "f7c0f50c-8a5f-4672-b3d6-1d9e280a32e0",
   "metadata": {},
   "outputs": [
    {
     "name": "stdout",
     "output_type": "stream",
     "text": [
      "                            OLS Regression Results                            \n",
      "==============================================================================\n",
      "Dep. Variable:                      y   R-squared:                       0.653\n",
      "Model:                            OLS   Adj. R-squared:                  0.652\n",
      "Method:                 Least Squares   F-statistic:                     2183.\n",
      "Date:                Mon, 03 Mar 2025   Prob (F-statistic):               0.00\n",
      "Time:                        20:00:09   Log-Likelihood:            -2.0679e+05\n",
      "No. Observations:               15129   AIC:                         4.136e+05\n",
      "Df Residuals:                   15115   BIC:                         4.137e+05\n",
      "Df Model:                          13                                         \n",
      "Covariance Type:            nonrobust                                         \n",
      "==============================================================================\n",
      "                 coef    std err          t      P>|t|      [0.025      0.975]\n",
      "------------------------------------------------------------------------------\n",
      "const       6.234e+06   1.51e+05     41.263      0.000    5.94e+06    6.53e+06\n",
      "x1         -3.498e+04   2310.612    -15.140      0.000   -3.95e+04   -3.05e+04\n",
      "x2          4.445e+04   4002.182     11.107      0.000    3.66e+04    5.23e+04\n",
      "x3           159.0833      5.441     29.236      0.000     148.418     169.749\n",
      "x4          5.676e+05   2.14e+04     26.542      0.000    5.26e+05    6.09e+05\n",
      "x5          4.173e+04   2627.380     15.882      0.000    3.66e+04    4.69e+04\n",
      "x6           1.71e+04   2847.918      6.004      0.000    1.15e+04    2.27e+04\n",
      "x7          1.193e+05   2611.069     45.673      0.000    1.14e+05    1.24e+05\n",
      "x8            -0.0206      0.056     -0.368      0.713      -0.130       0.089\n",
      "x9          3.036e+04   4380.315      6.931      0.000    2.18e+04    3.89e+04\n",
      "x10           -5.0531      5.295     -0.954      0.340     -15.432       5.325\n",
      "x11        -3584.1742     77.658    -46.153      0.000   -3736.394   -3431.955\n",
      "x12           23.3211      4.185      5.573      0.000      15.119      31.524\n",
      "x13           -0.4855      0.088     -5.517      0.000      -0.658      -0.313\n",
      "==============================================================================\n",
      "Omnibus:                     9423.085   Durbin-Watson:                   2.022\n",
      "Prob(Omnibus):                  0.000   Jarque-Bera (JB):           323740.656\n",
      "Skew:                           2.456   Prob(JB):                         0.00\n",
      "Kurtosis:                      25.123   Cond. No.                     4.64e+06\n",
      "==============================================================================\n",
      "\n",
      "Notes:\n",
      "[1] Standard Errors assume that the covariance matrix of the errors is correctly specified.\n",
      "[2] The condition number is large, 4.64e+06. This might indicate that there are\n",
      "strong multicollinearity or other numerical problems.\n"
     ]
    }
   ],
   "source": [
    "# Reporte Automatizado de la regresion en Python\n",
    "regressor = sm.OLS(Y, X).fit()\n",
    "print(regressor.summary())"
   ]
  },
  {
   "cell_type": "code",
   "execution_count": 18,
   "id": "e36b36cd-fce9-48a7-ba86-e93d89aadf08",
   "metadata": {},
   "outputs": [
    {
     "data": {
      "text/plain": [
       "array([[43694755895.078400]])"
      ]
     },
     "execution_count": 18,
     "metadata": {},
     "output_type": "execute_result"
    }
   ],
   "source": [
    "# Calculo de la varianza del error de regresion\n",
    "s_cuad = RSS / (len(Y) - X.shape[1])\n",
    "s_cuad"
   ]
  },
  {
   "cell_type": "markdown",
   "id": "f8a75407-9eea-47f4-aa83-08ac6ea99cf0",
   "metadata": {},
   "source": [
    "Tomando en cuenta betas no significativas en el criterio 1 y el valor de p en el criterio 2, la primer variable a eliminar seria la 8 debido a que su valor p es el mas cercano a 1, seguido de beta 10 en caso de ser necesario"
   ]
  },
  {
   "cell_type": "code",
   "execution_count": 39,
   "id": "f6c159cd-caba-4a7f-a259-6b024c936e40",
   "metadata": {},
   "outputs": [
    {
     "data": {
      "text/plain": [
       "array([[1.000000, 3.000000, 2.000000, ..., 1998.000000, 2070.000000,\n",
       "        6250.000000],\n",
       "       [1.000000, 2.000000, 1.000000, ..., 1944.000000, 1090.000000,\n",
       "        7158.000000],\n",
       "       [1.000000, 3.000000, 1.000000, ..., 1954.000000, 1140.000000,\n",
       "        11250.000000],\n",
       "       ...,\n",
       "       [1.000000, 3.000000, 1.750000, ..., 1980.000000, 2460.000000,\n",
       "        36677.000000],\n",
       "       [1.000000, 3.000000, 2.250000, ..., 1959.000000, 1550.000000,\n",
       "        9240.000000],\n",
       "       [1.000000, 5.000000, 4.000000, ..., 1983.000000, 3430.000000,\n",
       "        35096.000000]])"
      ]
     },
     "execution_count": 39,
     "metadata": {},
     "output_type": "execute_result"
    }
   ],
   "source": [
    "X_Nueva = np.delete(X, 8, 1)\n",
    "X_Nueva"
   ]
  },
  {
   "cell_type": "code",
   "execution_count": 40,
   "id": "685fd3a4-eb78-4921-a8c2-ed99a5062cb8",
   "metadata": {},
   "outputs": [
    {
     "name": "stdout",
     "output_type": "stream",
     "text": [
      "                            OLS Regression Results                            \n",
      "==============================================================================\n",
      "Dep. Variable:                      y   R-squared:                       0.653\n",
      "Model:                            OLS   Adj. R-squared:                  0.652\n",
      "Method:                 Least Squares   F-statistic:                     2365.\n",
      "Date:                Mon, 03 Mar 2025   Prob (F-statistic):               0.00\n",
      "Time:                        22:43:13   Log-Likelihood:            -2.0679e+05\n",
      "No. Observations:               15129   AIC:                         4.136e+05\n",
      "Df Residuals:                   15116   BIC:                         4.137e+05\n",
      "Df Model:                          12                                         \n",
      "Covariance Type:            nonrobust                                         \n",
      "==============================================================================\n",
      "                 coef    std err          t      P>|t|      [0.025      0.975]\n",
      "------------------------------------------------------------------------------\n",
      "const       6.233e+06   1.51e+05     41.263      0.000    5.94e+06    6.53e+06\n",
      "x1         -3.496e+04   2310.046    -15.136      0.000   -3.95e+04   -3.04e+04\n",
      "x2          4.444e+04   4001.891     11.104      0.000    3.66e+04    5.23e+04\n",
      "x3           159.0757      5.441     29.236      0.000     148.410     169.741\n",
      "x4          5.676e+05   2.14e+04     26.548      0.000    5.26e+05     6.1e+05\n",
      "x5          4.171e+04   2626.721     15.879      0.000    3.66e+04    4.69e+04\n",
      "x6          1.711e+04   2847.767      6.007      0.000    1.15e+04    2.27e+04\n",
      "x7          1.193e+05   2610.972     45.674      0.000    1.14e+05    1.24e+05\n",
      "x8          3.043e+04   4376.370      6.952      0.000    2.18e+04     3.9e+04\n",
      "x9            -5.1608      5.287     -0.976      0.329     -15.523       5.202\n",
      "x10        -3583.8958     77.652    -46.153      0.000   -3736.104   -3431.688\n",
      "x11           23.4049      4.178      5.601      0.000      15.215      31.595\n",
      "x12           -0.5079      0.063     -8.018      0.000      -0.632      -0.384\n",
      "==============================================================================\n",
      "Omnibus:                     9424.946   Durbin-Watson:                   2.022\n",
      "Prob(Omnibus):                  0.000   Jarque-Bera (JB):           323996.905\n",
      "Skew:                           2.456   Prob(JB):                         0.00\n",
      "Kurtosis:                      25.132   Cond. No.                     2.73e+06\n",
      "==============================================================================\n",
      "\n",
      "Notes:\n",
      "[1] Standard Errors assume that the covariance matrix of the errors is correctly specified.\n",
      "[2] The condition number is large, 2.73e+06. This might indicate that there are\n",
      "strong multicollinearity or other numerical problems.\n"
     ]
    }
   ],
   "source": [
    "regressor = sm.OLS(Y, X_Nueva).fit()\n",
    "print(regressor.summary())"
   ]
  },
  {
   "cell_type": "markdown",
   "id": "f13c2425-a20a-4aae-bc39-7b5bff888e66",
   "metadata": {},
   "source": [
    "El valor P mas alto es el de la variable 9 por lo que procedemos eliminandola para repetir el modelo"
   ]
  },
  {
   "cell_type": "code",
   "execution_count": 41,
   "id": "a3f83955-683f-4398-b7be-b0eb9a91568c",
   "metadata": {},
   "outputs": [
    {
     "name": "stdout",
     "output_type": "stream",
     "text": [
      "                            OLS Regression Results                            \n",
      "==============================================================================\n",
      "Dep. Variable:                      y   R-squared:                       0.652\n",
      "Model:                            OLS   Adj. R-squared:                  0.652\n",
      "Method:                 Least Squares   F-statistic:                     2580.\n",
      "Date:                Mon, 03 Mar 2025   Prob (F-statistic):               0.00\n",
      "Time:                        22:43:27   Log-Likelihood:            -2.0679e+05\n",
      "No. Observations:               15129   AIC:                         4.136e+05\n",
      "Df Residuals:                   15117   BIC:                         4.137e+05\n",
      "Df Model:                          11                                         \n",
      "Covariance Type:            nonrobust                                         \n",
      "==============================================================================\n",
      "                 coef    std err          t      P>|t|      [0.025      0.975]\n",
      "------------------------------------------------------------------------------\n",
      "const        6.25e+06    1.5e+05     41.640      0.000    5.96e+06    6.54e+06\n",
      "x1         -3.499e+04   2309.916    -15.147      0.000   -3.95e+04   -3.05e+04\n",
      "x2          4.513e+04   3938.252     11.460      0.000    3.74e+04    5.29e+04\n",
      "x3           155.6808      4.185     37.202      0.000     147.478     163.883\n",
      "x4          5.668e+05   2.14e+04     26.530      0.000    5.25e+05    6.09e+05\n",
      "x5          4.217e+04   2583.614     16.322      0.000    3.71e+04    4.72e+04\n",
      "x6           1.73e+04   2841.027      6.089      0.000    1.17e+04    2.29e+04\n",
      "x7           1.19e+05   2598.537     45.796      0.000    1.14e+05    1.24e+05\n",
      "x8          2.862e+04   3966.061      7.216      0.000    2.08e+04    3.64e+04\n",
      "x9         -3591.3282     77.278    -46.473      0.000   -3742.803   -3439.854\n",
      "x10           22.5834      4.093      5.518      0.000      14.561      30.606\n",
      "x11           -0.5142      0.063     -8.159      0.000      -0.638      -0.391\n",
      "==============================================================================\n",
      "Omnibus:                     9409.978   Durbin-Watson:                   2.022\n",
      "Prob(Omnibus):                  0.000   Jarque-Bera (JB):           322378.299\n",
      "Skew:                           2.452   Prob(JB):                         0.00\n",
      "Kurtosis:                      25.076   Cond. No.                     2.71e+06\n",
      "==============================================================================\n",
      "\n",
      "Notes:\n",
      "[1] Standard Errors assume that the covariance matrix of the errors is correctly specified.\n",
      "[2] The condition number is large, 2.71e+06. This might indicate that there are\n",
      "strong multicollinearity or other numerical problems.\n"
     ]
    }
   ],
   "source": [
    "X_Nueva = np.delete(X_Nueva, 9, 1)\n",
    "regressor = sm.OLS(Y, X_Nueva).fit()\n",
    "print(regressor.summary())"
   ]
  },
  {
   "cell_type": "markdown",
   "id": "5c7ee6ba-65ef-4888-ad03-99c2efc16afa",
   "metadata": {},
   "source": [
    "Utilizamos Recursive Feature Elimination para seguir seleccionando las variables menos importantes primero"
   ]
  },
  {
   "cell_type": "code",
   "execution_count": 42,
   "id": "7e9cf924-bd76-48e7-a413-b8276dfa9d19",
   "metadata": {},
   "outputs": [
    {
     "name": "stdout",
     "output_type": "stream",
     "text": [
      "[12  8  5  9  1  3  4  2  6  7 10 11]\n"
     ]
    }
   ],
   "source": [
    "from sklearn.feature_selection import RFE\n",
    "from sklearn.linear_model import LinearRegression\n",
    "\n",
    "model = LinearRegression()\n",
    "selector = RFE(model, n_features_to_select=1, step=1)\n",
    "selector = selector.fit(X_Nueva, Y)\n",
    "\n",
    "print(selector.ranking_)"
   ]
  },
  {
   "cell_type": "code",
   "execution_count": 43,
   "id": "47a2d9ee-1a44-46af-ac42-7b4e879407ca",
   "metadata": {},
   "outputs": [
    {
     "name": "stdout",
     "output_type": "stream",
     "text": [
      "                            OLS Regression Results                            \n",
      "==============================================================================\n",
      "Dep. Variable:                      y   R-squared:                       0.652\n",
      "Model:                            OLS   Adj. R-squared:                  0.652\n",
      "Method:                 Least Squares   F-statistic:                     2830.\n",
      "Date:                Mon, 03 Mar 2025   Prob (F-statistic):               0.00\n",
      "Time:                        23:20:03   Log-Likelihood:            -2.0681e+05\n",
      "No. Observations:               15129   AIC:                         4.136e+05\n",
      "Df Residuals:                   15118   BIC:                         4.137e+05\n",
      "Df Model:                          10                                         \n",
      "Covariance Type:            nonrobust                                         \n",
      "==============================================================================\n",
      "                 coef    std err          t      P>|t|      [0.025      0.975]\n",
      "------------------------------------------------------------------------------\n",
      "const       6.173e+06    1.5e+05     41.267      0.000    5.88e+06    6.47e+06\n",
      "x1         -3.501e+04   2312.159    -15.144      0.000   -3.95e+04   -3.05e+04\n",
      "x2          4.349e+04   3930.787     11.063      0.000    3.58e+04    5.12e+04\n",
      "x3           164.8793      3.842     42.914      0.000     157.348     172.410\n",
      "x4          5.639e+05   2.14e+04     26.375      0.000    5.22e+05    6.06e+05\n",
      "x5          4.346e+04   2575.474     16.876      0.000    3.84e+04    4.85e+04\n",
      "x6          1.686e+04   2842.667      5.930      0.000    1.13e+04    2.24e+04\n",
      "x7          1.233e+05   2479.837     49.733      0.000    1.18e+05    1.28e+05\n",
      "x8          2.674e+04   3955.258      6.761      0.000     1.9e+04    3.45e+04\n",
      "x9         -3552.5708     77.033    -46.117      0.000   -3703.565   -3401.577\n",
      "x10           -0.4936      0.063     -7.838      0.000      -0.617      -0.370\n",
      "==============================================================================\n",
      "Omnibus:                     9266.078   Durbin-Watson:                   2.021\n",
      "Prob(Omnibus):                  0.000   Jarque-Bera (JB):           304814.711\n",
      "Skew:                           2.409   Prob(JB):                         0.00\n",
      "Kurtosis:                      24.455   Cond. No.                     2.69e+06\n",
      "==============================================================================\n",
      "\n",
      "Notes:\n",
      "[1] Standard Errors assume that the covariance matrix of the errors is correctly specified.\n",
      "[2] The condition number is large, 2.69e+06. This might indicate that there are\n",
      "strong multicollinearity or other numerical problems.\n"
     ]
    }
   ],
   "source": [
    "X_Nueva = np.delete(X_Nueva, 10, 1)\n",
    "regressor = sm.OLS(Y, X_Nueva).fit()\n",
    "print(regressor.summary())"
   ]
  },
  {
   "cell_type": "code",
   "execution_count": 44,
   "id": "191df73d-4694-47fd-8b40-31fd7093fb6a",
   "metadata": {},
   "outputs": [
    {
     "name": "stdout",
     "output_type": "stream",
     "text": [
      "                            OLS Regression Results                            \n",
      "==============================================================================\n",
      "Dep. Variable:                      y   R-squared:                       0.603\n",
      "Model:                            OLS   Adj. R-squared:                  0.603\n",
      "Method:                 Least Squares   F-statistic:                     2550.\n",
      "Date:                Mon, 03 Mar 2025   Prob (F-statistic):               0.00\n",
      "Time:                        23:20:46   Log-Likelihood:            -2.0781e+05\n",
      "No. Observations:               15129   AIC:                         4.156e+05\n",
      "Df Residuals:                   15119   BIC:                         4.157e+05\n",
      "Df Model:                           9                                         \n",
      "Covariance Type:            nonrobust                                         \n",
      "==============================================================================\n",
      "                 coef    std err          t      P>|t|      [0.025      0.975]\n",
      "------------------------------------------------------------------------------\n",
      "const      -6.711e+05      2e+04    -33.480      0.000    -7.1e+05   -6.32e+05\n",
      "x1         -3.051e+04   2467.166    -12.368      0.000   -3.53e+04   -2.57e+04\n",
      "x2         -1.269e+04   3991.408     -3.178      0.001   -2.05e+04   -4861.765\n",
      "x3           190.8142      4.059     47.009      0.000     182.858     198.770\n",
      "x4           5.65e+05   2.28e+04     24.744      0.000     5.2e+05     6.1e+05\n",
      "x5          6.008e+04   2723.535     22.060      0.000    5.47e+04    6.54e+04\n",
      "x6          5.343e+04   2915.395     18.327      0.000    4.77e+04    5.91e+04\n",
      "x7          1.003e+05   2593.968     38.649      0.000    9.52e+04    1.05e+05\n",
      "x8         -1.168e+04   4129.408     -2.829      0.005   -1.98e+04   -3586.525\n",
      "x9            -0.7133      0.067    -10.636      0.000      -0.845      -0.582\n",
      "==============================================================================\n",
      "Omnibus:                     8599.094   Durbin-Watson:                   2.021\n",
      "Prob(Omnibus):                  0.000   Jarque-Bera (JB):           204595.870\n",
      "Skew:                           2.263   Prob(JB):                         0.00\n",
      "Kurtosis:                      20.438   Cond. No.                     3.86e+05\n",
      "==============================================================================\n",
      "\n",
      "Notes:\n",
      "[1] Standard Errors assume that the covariance matrix of the errors is correctly specified.\n",
      "[2] The condition number is large, 3.86e+05. This might indicate that there are\n",
      "strong multicollinearity or other numerical problems.\n"
     ]
    }
   ],
   "source": [
    "X_Nueva = np.delete(X_Nueva, 9, 1)\n",
    "regressor = sm.OLS(Y, X_Nueva).fit()\n",
    "print(regressor.summary())"
   ]
  },
  {
   "cell_type": "code",
   "execution_count": 45,
   "id": "19ea3a8c-5880-4c3a-9168-4d8dee8b960e",
   "metadata": {},
   "outputs": [
    {
     "name": "stdout",
     "output_type": "stream",
     "text": [
      "[10  7  5  8  1  3  4  2  6  9]\n"
     ]
    }
   ],
   "source": [
    "model = LinearRegression()\n",
    "selector = RFE(model, n_features_to_select=1, step=1)\n",
    "selector = selector.fit(X_Nueva, Y)\n",
    "\n",
    "print(selector.ranking_)"
   ]
  },
  {
   "cell_type": "code",
   "execution_count": 46,
   "id": "b5bcb279-1a36-45cd-9d4a-559770099a69",
   "metadata": {},
   "outputs": [
    {
     "name": "stdout",
     "output_type": "stream",
     "text": [
      "                            OLS Regression Results                            \n",
      "==============================================================================\n",
      "Dep. Variable:                      y   R-squared:                       0.603\n",
      "Model:                            OLS   Adj. R-squared:                  0.602\n",
      "Method:                 Least Squares   F-statistic:                     2866.\n",
      "Date:                Mon, 03 Mar 2025   Prob (F-statistic):               0.00\n",
      "Time:                        23:21:09   Log-Likelihood:            -2.0781e+05\n",
      "No. Observations:               15129   AIC:                         4.156e+05\n",
      "Df Residuals:                   15120   BIC:                         4.157e+05\n",
      "Df Model:                           8                                         \n",
      "Covariance Type:            nonrobust                                         \n",
      "==============================================================================\n",
      "                 coef    std err          t      P>|t|      [0.025      0.975]\n",
      "------------------------------------------------------------------------------\n",
      "const      -6.777e+05   1.99e+04    -34.036      0.000   -7.17e+05   -6.39e+05\n",
      "x1         -3.011e+04   2463.643    -12.223      0.000   -3.49e+04   -2.53e+04\n",
      "x2         -1.639e+04   3771.301     -4.346      0.000   -2.38e+04   -8997.770\n",
      "x3           191.9869      4.039     47.536      0.000     184.070     199.903\n",
      "x4           5.63e+05   2.28e+04     24.662      0.000    5.18e+05    6.08e+05\n",
      "x5          6.075e+04   2713.739     22.387      0.000    5.54e+04    6.61e+04\n",
      "x6          5.508e+04   2857.309     19.277      0.000    4.95e+04    6.07e+04\n",
      "x7          9.859e+04   2527.219     39.012      0.000    9.36e+04    1.04e+05\n",
      "x8            -0.7024      0.067    -10.489      0.000      -0.834      -0.571\n",
      "==============================================================================\n",
      "Omnibus:                     8643.104   Durbin-Watson:                   2.022\n",
      "Prob(Omnibus):                  0.000   Jarque-Bera (JB):           207665.594\n",
      "Skew:                           2.277   Prob(JB):                         0.00\n",
      "Kurtosis:                      20.570   Cond. No.                     3.86e+05\n",
      "==============================================================================\n",
      "\n",
      "Notes:\n",
      "[1] Standard Errors assume that the covariance matrix of the errors is correctly specified.\n",
      "[2] The condition number is large, 3.86e+05. This might indicate that there are\n",
      "strong multicollinearity or other numerical problems.\n"
     ]
    }
   ],
   "source": [
    "X_Nueva = np.delete(X_Nueva, 8, 1)\n",
    "regressor = sm.OLS(Y, X_Nueva).fit()\n",
    "print(regressor.summary())"
   ]
  },
  {
   "cell_type": "code",
   "execution_count": 47,
   "id": "cb7b13a2-0569-4fe9-a6ad-4b803214e4cf",
   "metadata": {},
   "outputs": [
    {
     "name": "stdout",
     "output_type": "stream",
     "text": [
      "                            OLS Regression Results                            \n",
      "==============================================================================\n",
      "Dep. Variable:                      y   R-squared:                       0.589\n",
      "Model:                            OLS   Adj. R-squared:                  0.589\n",
      "Method:                 Least Squares   F-statistic:                     3101.\n",
      "Date:                Mon, 03 Mar 2025   Prob (F-statistic):               0.00\n",
      "Time:                        23:21:25   Log-Likelihood:            -2.0806e+05\n",
      "No. Observations:               15129   AIC:                         4.161e+05\n",
      "Df Residuals:                   15121   BIC:                         4.162e+05\n",
      "Df Model:                           7                                         \n",
      "Covariance Type:            nonrobust                                         \n",
      "==============================================================================\n",
      "                 coef    std err          t      P>|t|      [0.025      0.975]\n",
      "------------------------------------------------------------------------------\n",
      "const      -7.159e+05   2.02e+04    -35.503      0.000   -7.55e+05   -6.76e+05\n",
      "x1         -3.359e+04   2499.080    -13.440      0.000   -3.85e+04   -2.87e+04\n",
      "x2         -1.878e+04   3831.632     -4.902      0.000   -2.63e+04   -1.13e+04\n",
      "x3           204.1314      4.068     50.182      0.000     196.158     212.105\n",
      "x4          7.619e+05   2.14e+04     35.651      0.000     7.2e+05    8.04e+05\n",
      "x5          5.919e+04   2898.181     20.423      0.000    5.35e+04    6.49e+04\n",
      "x6          1.022e+05   2563.311     39.889      0.000    9.72e+04    1.07e+05\n",
      "x7            -0.6837      0.068    -10.045      0.000      -0.817      -0.550\n",
      "==============================================================================\n",
      "Omnibus:                     8580.677   Durbin-Watson:                   2.019\n",
      "Prob(Omnibus):                  0.000   Jarque-Bera (JB):           192535.338\n",
      "Skew:                           2.276   Prob(JB):                         0.00\n",
      "Kurtosis:                      19.873   Cond. No.                     3.54e+05\n",
      "==============================================================================\n",
      "\n",
      "Notes:\n",
      "[1] Standard Errors assume that the covariance matrix of the errors is correctly specified.\n",
      "[2] The condition number is large, 3.54e+05. This might indicate that there are\n",
      "strong multicollinearity or other numerical problems.\n"
     ]
    }
   ],
   "source": [
    "X_Nueva = np.delete(X_Nueva, 5, 1)\n",
    "regressor = sm.OLS(Y, X_Nueva).fit()\n",
    "print(regressor.summary())"
   ]
  },
  {
   "cell_type": "code",
   "execution_count": 48,
   "id": "d780332e-e24d-4406-8828-b016235aa4e2",
   "metadata": {},
   "outputs": [
    {
     "name": "stdout",
     "output_type": "stream",
     "text": [
      "                            OLS Regression Results                            \n",
      "==============================================================================\n",
      "Dep. Variable:                      y   R-squared:                       0.585\n",
      "Model:                            OLS   Adj. R-squared:                  0.584\n",
      "Method:                 Least Squares   F-statistic:                     3546.\n",
      "Date:                Mon, 03 Mar 2025   Prob (F-statistic):               0.00\n",
      "Time:                        23:22:59   Log-Likelihood:            -2.0815e+05\n",
      "No. Observations:               15129   AIC:                         4.163e+05\n",
      "Df Residuals:                   15122   BIC:                         4.164e+05\n",
      "Df Model:                           6                                         \n",
      "Covariance Type:            nonrobust                                         \n",
      "==============================================================================\n",
      "                 coef    std err          t      P>|t|      [0.025      0.975]\n",
      "------------------------------------------------------------------------------\n",
      "const      -8.068e+05   1.91e+04    -42.220      0.000   -8.44e+05   -7.69e+05\n",
      "x1         -2.791e+04   3793.307     -7.357      0.000   -3.53e+04   -2.05e+04\n",
      "x2           182.7397      3.766     48.527      0.000     175.358     190.121\n",
      "x3          7.867e+05   2.14e+04     36.730      0.000    7.45e+05    8.29e+05\n",
      "x4          5.615e+04   2906.427     19.318      0.000    5.04e+04    6.18e+04\n",
      "x5          1.089e+05   2530.592     43.017      0.000    1.04e+05    1.14e+05\n",
      "x6            -0.5999      0.068     -8.798      0.000      -0.734      -0.466\n",
      "==============================================================================\n",
      "Omnibus:                     8772.531   Durbin-Watson:                   2.019\n",
      "Prob(Omnibus):                  0.000   Jarque-Bera (JB):           207608.338\n",
      "Skew:                           2.331   Prob(JB):                         0.00\n",
      "Kurtosis:                      20.539   Cond. No.                     3.54e+05\n",
      "==============================================================================\n",
      "\n",
      "Notes:\n",
      "[1] Standard Errors assume that the covariance matrix of the errors is correctly specified.\n",
      "[2] The condition number is large, 3.54e+05. This might indicate that there are\n",
      "strong multicollinearity or other numerical problems.\n"
     ]
    }
   ],
   "source": [
    "X_Nueva = np.delete(X_Nueva, 1, 1)\n",
    "regressor = sm.OLS(Y, X_Nueva).fit()\n",
    "print(regressor.summary())"
   ]
  },
  {
   "cell_type": "code",
   "execution_count": 49,
   "id": "c5d2a6d7-8a81-4e97-bf26-79b955e3eeab",
   "metadata": {},
   "outputs": [
    {
     "name": "stdout",
     "output_type": "stream",
     "text": [
      "[7 4 5 1 3 2 6]\n"
     ]
    }
   ],
   "source": [
    "model = LinearRegression()\n",
    "selector = RFE(model, n_features_to_select=1, step=1)\n",
    "selector = selector.fit(X_Nueva, Y)\n",
    "\n",
    "print(selector.ranking_)"
   ]
  },
  {
   "cell_type": "code",
   "execution_count": 50,
   "id": "13ffbc0f-fee4-4659-9810-7c05b99a6c28",
   "metadata": {},
   "outputs": [
    {
     "name": "stdout",
     "output_type": "stream",
     "text": [
      "                            OLS Regression Results                            \n",
      "==============================================================================\n",
      "Dep. Variable:                      y   R-squared:                       0.534\n",
      "Model:                            OLS   Adj. R-squared:                  0.534\n",
      "Method:                 Least Squares   F-statistic:                     3461.\n",
      "Date:                Mon, 03 Mar 2025   Prob (F-statistic):               0.00\n",
      "Time:                        23:23:18   Log-Likelihood:            -2.0902e+05\n",
      "No. Observations:               15129   AIC:                         4.181e+05\n",
      "Df Residuals:                   15123   BIC:                         4.181e+05\n",
      "Df Model:                           5                                         \n",
      "Covariance Type:            nonrobust                                         \n",
      "==============================================================================\n",
      "                 coef    std err          t      P>|t|      [0.025      0.975]\n",
      "------------------------------------------------------------------------------\n",
      "const      -1.614e+05   1.25e+04    -12.875      0.000   -1.86e+05   -1.37e+05\n",
      "x1          3004.7149   3945.795      0.761      0.446   -4729.520    1.07e+04\n",
      "x2           269.7314      3.365     80.151      0.000     263.135     276.328\n",
      "x3          8.016e+05   2.27e+04     35.330      0.000    7.57e+05    8.46e+05\n",
      "x4          3.943e+04   3051.387     12.923      0.000    3.35e+04    4.54e+04\n",
      "x5            -0.6596      0.072     -9.134      0.000      -0.801      -0.518\n",
      "==============================================================================\n",
      "Omnibus:                     7746.627   Durbin-Watson:                   2.008\n",
      "Prob(Omnibus):                  0.000   Jarque-Bera (JB):           133823.290\n",
      "Skew:                           2.056   Prob(JB):                         0.00\n",
      "Kurtosis:                      16.978   Cond. No.                     3.53e+05\n",
      "==============================================================================\n",
      "\n",
      "Notes:\n",
      "[1] Standard Errors assume that the covariance matrix of the errors is correctly specified.\n",
      "[2] The condition number is large, 3.53e+05. This might indicate that there are\n",
      "strong multicollinearity or other numerical problems.\n"
     ]
    }
   ],
   "source": [
    "X_Nueva = np.delete(X_Nueva, 5, 1)\n",
    "regressor = sm.OLS(Y, X_Nueva).fit()\n",
    "print(regressor.summary())"
   ]
  },
  {
   "cell_type": "code",
   "execution_count": 51,
   "id": "f0cbf108-6dff-4e8c-b42f-913d14a30df3",
   "metadata": {},
   "outputs": [
    {
     "name": "stdout",
     "output_type": "stream",
     "text": [
      "                            OLS Regression Results                            \n",
      "==============================================================================\n",
      "Dep. Variable:                      y   R-squared:                       0.534\n",
      "Model:                            OLS   Adj. R-squared:                  0.534\n",
      "Method:                 Least Squares   F-statistic:                     4327.\n",
      "Date:                Mon, 03 Mar 2025   Prob (F-statistic):               0.00\n",
      "Time:                        23:23:23   Log-Likelihood:            -2.0902e+05\n",
      "No. Observations:               15129   AIC:                         4.180e+05\n",
      "Df Residuals:                   15124   BIC:                         4.181e+05\n",
      "Df Model:                           4                                         \n",
      "Covariance Type:            nonrobust                                         \n",
      "==============================================================================\n",
      "                 coef    std err          t      P>|t|      [0.025      0.975]\n",
      "------------------------------------------------------------------------------\n",
      "const       -1.58e+05   1.17e+04    -13.503      0.000   -1.81e+05   -1.35e+05\n",
      "x1           271.6497      2.231    121.737      0.000     267.276     276.024\n",
      "x2          8.013e+05   2.27e+04     35.323      0.000    7.57e+05    8.46e+05\n",
      "x3          3.914e+04   3026.717     12.931      0.000    3.32e+04    4.51e+04\n",
      "x4            -0.6637      0.072     -9.216      0.000      -0.805      -0.523\n",
      "==============================================================================\n",
      "Omnibus:                     7736.389   Durbin-Watson:                   2.008\n",
      "Prob(Omnibus):                  0.000   Jarque-Bera (JB):           133323.736\n",
      "Skew:                           2.053   Prob(JB):                         0.00\n",
      "Kurtosis:                      16.952   Cond. No.                     3.53e+05\n",
      "==============================================================================\n",
      "\n",
      "Notes:\n",
      "[1] Standard Errors assume that the covariance matrix of the errors is correctly specified.\n",
      "[2] The condition number is large, 3.53e+05. This might indicate that there are\n",
      "strong multicollinearity or other numerical problems.\n"
     ]
    }
   ],
   "source": [
    "X_Nueva = np.delete(X_Nueva, 1, 1)\n",
    "regressor = sm.OLS(Y, X_Nueva).fit()\n",
    "print(regressor.summary())"
   ]
  },
  {
   "cell_type": "code",
   "execution_count": 52,
   "id": "a85f08f9-3668-488f-ae2f-dc4d63ceec82",
   "metadata": {},
   "outputs": [
    {
     "name": "stdout",
     "output_type": "stream",
     "text": [
      "[5 3 1 2 4]\n"
     ]
    }
   ],
   "source": [
    "model = LinearRegression()\n",
    "selector = RFE(model, n_features_to_select=1, step=1)\n",
    "selector = selector.fit(X_Nueva, Y)\n",
    "\n",
    "print(selector.ranking_)"
   ]
  },
  {
   "cell_type": "code",
   "execution_count": 53,
   "id": "9e34d4ac-3b8a-482b-be01-db35012d6892",
   "metadata": {},
   "outputs": [
    {
     "name": "stdout",
     "output_type": "stream",
     "text": [
      "                            OLS Regression Results                            \n",
      "==============================================================================\n",
      "Dep. Variable:                      y   R-squared:                       0.529\n",
      "Model:                            OLS   Adj. R-squared:                  0.528\n",
      "Method:                 Least Squares   F-statistic:                     5651.\n",
      "Date:                Mon, 03 Mar 2025   Prob (F-statistic):               0.00\n",
      "Time:                        23:23:38   Log-Likelihood:            -2.0910e+05\n",
      "No. Observations:               15129   AIC:                         4.182e+05\n",
      "Df Residuals:                   15125   BIC:                         4.182e+05\n",
      "Df Model:                           3                                         \n",
      "Covariance Type:            nonrobust                                         \n",
      "==============================================================================\n",
      "                 coef    std err          t      P>|t|      [0.025      0.975]\n",
      "------------------------------------------------------------------------------\n",
      "const      -2.088e+04   4973.233     -4.199      0.000   -3.06e+04   -1.11e+04\n",
      "x1           269.8263      2.239    120.502      0.000     265.437     274.215\n",
      "x2          8.093e+05   2.28e+04     35.498      0.000    7.65e+05    8.54e+05\n",
      "x3            -0.6576      0.072     -9.081      0.000      -0.799      -0.516\n",
      "==============================================================================\n",
      "Omnibus:                     7709.655   Durbin-Watson:                   2.009\n",
      "Prob(Omnibus):                  0.000   Jarque-Bera (JB):           129281.626\n",
      "Skew:                           2.052   Prob(JB):                         0.00\n",
      "Kurtosis:                      16.720   Cond. No.                     3.53e+05\n",
      "==============================================================================\n",
      "\n",
      "Notes:\n",
      "[1] Standard Errors assume that the covariance matrix of the errors is correctly specified.\n",
      "[2] The condition number is large, 3.53e+05. This might indicate that there are\n",
      "strong multicollinearity or other numerical problems.\n"
     ]
    }
   ],
   "source": [
    "X_Nueva = np.delete(X_Nueva, 3, 1)\n",
    "regressor = sm.OLS(Y, X_Nueva).fit()\n",
    "print(regressor.summary())"
   ]
  },
  {
   "cell_type": "code",
   "execution_count": 54,
   "id": "8d35b625-d178-4b2a-ac51-04dad79b1b02",
   "metadata": {},
   "outputs": [
    {
     "name": "stdout",
     "output_type": "stream",
     "text": [
      "                            OLS Regression Results                            \n",
      "==============================================================================\n",
      "Dep. Variable:                      y   R-squared:                       0.076\n",
      "Model:                            OLS   Adj. R-squared:                  0.076\n",
      "Method:                 Least Squares   F-statistic:                     620.7\n",
      "Date:                Mon, 03 Mar 2025   Prob (F-statistic):          8.48e-260\n",
      "Time:                        23:23:48   Log-Likelihood:            -2.1419e+05\n",
      "No. Observations:               15129   AIC:                         4.284e+05\n",
      "Df Residuals:                   15126   BIC:                         4.284e+05\n",
      "Df Model:                           2                                         \n",
      "Covariance Type:            nonrobust                                         \n",
      "==============================================================================\n",
      "                 coef    std err          t      P>|t|      [0.025      0.975]\n",
      "------------------------------------------------------------------------------\n",
      "const       5.176e+05   3056.191    169.354      0.000    5.12e+05    5.24e+05\n",
      "x1          1.071e+06   3.18e+04     33.700      0.000    1.01e+06    1.13e+06\n",
      "x2             0.9317      0.100      9.347      0.000       0.736       1.127\n",
      "==============================================================================\n",
      "Omnibus:                    10595.245   Durbin-Watson:                   1.978\n",
      "Prob(Omnibus):                  0.000   Jarque-Bera (JB):           262551.920\n",
      "Skew:                           3.059   Prob(JB):                         0.00\n",
      "Kurtosis:                      22.470   Cond. No.                     3.51e+05\n",
      "==============================================================================\n",
      "\n",
      "Notes:\n",
      "[1] Standard Errors assume that the covariance matrix of the errors is correctly specified.\n",
      "[2] The condition number is large, 3.51e+05. This might indicate that there are\n",
      "strong multicollinearity or other numerical problems.\n"
     ]
    }
   ],
   "source": [
    "X_Nueva = np.delete(X_Nueva, 1, 1)\n",
    "regressor = sm.OLS(Y, X_Nueva).fit()\n",
    "print(regressor.summary())"
   ]
  },
  {
   "cell_type": "code",
   "execution_count": 55,
   "id": "a0f99d6a-3127-437a-a840-9501b69a3643",
   "metadata": {},
   "outputs": [
    {
     "name": "stdout",
     "output_type": "stream",
     "text": [
      "[3 1 2]\n"
     ]
    }
   ],
   "source": [
    "model = LinearRegression()\n",
    "selector = RFE(model, n_features_to_select=1, step=1)\n",
    "selector = selector.fit(X_Nueva, Y)\n",
    "\n",
    "print(selector.ranking_)"
   ]
  },
  {
   "cell_type": "code",
   "execution_count": 56,
   "id": "0ba65a24-f79f-400b-b976-9e2d818862e0",
   "metadata": {},
   "outputs": [
    {
     "name": "stdout",
     "output_type": "stream",
     "text": [
      "                            OLS Regression Results                            \n",
      "==============================================================================\n",
      "Dep. Variable:                      y   R-squared:                       0.006\n",
      "Model:                            OLS   Adj. R-squared:                  0.006\n",
      "Method:                 Least Squares   F-statistic:                     98.34\n",
      "Date:                Mon, 03 Mar 2025   Prob (F-statistic):           4.15e-23\n",
      "Time:                        23:24:10   Log-Likelihood:            -2.1474e+05\n",
      "No. Observations:               15129   AIC:                         4.295e+05\n",
      "Df Residuals:                   15127   BIC:                         4.295e+05\n",
      "Df Model:                           1                                         \n",
      "Covariance Type:            nonrobust                                         \n",
      "==============================================================================\n",
      "                 coef    std err          t      P>|t|      [0.025      0.975]\n",
      "------------------------------------------------------------------------------\n",
      "const       5.246e+05   3161.361    165.943      0.000    5.18e+05    5.31e+05\n",
      "x1             1.0244      0.103      9.916      0.000       0.822       1.227\n",
      "==============================================================================\n",
      "Omnibus:                    11588.221   Durbin-Watson:                   1.971\n",
      "Prob(Omnibus):                  0.000   Jarque-Bera (JB):           340616.442\n",
      "Skew:                           3.437   Prob(JB):                         0.00\n",
      "Kurtosis:                      25.206   Cond. No.                     3.37e+04\n",
      "==============================================================================\n",
      "\n",
      "Notes:\n",
      "[1] Standard Errors assume that the covariance matrix of the errors is correctly specified.\n",
      "[2] The condition number is large, 3.37e+04. This might indicate that there are\n",
      "strong multicollinearity or other numerical problems.\n"
     ]
    }
   ],
   "source": [
    "X_Nueva = np.delete(X_Nueva, 1, 1)\n",
    "regressor = sm.OLS(Y, X_Nueva).fit()\n",
    "print(regressor.summary())"
   ]
  },
  {
   "cell_type": "code",
   "execution_count": null,
   "id": "f87bf20f-a5d5-4547-adbd-8981b6fcc993",
   "metadata": {},
   "outputs": [],
   "source": []
  }
 ],
 "metadata": {
  "kernelspec": {
   "display_name": "Python 3 (ipykernel)",
   "language": "python",
   "name": "python3"
  },
  "language_info": {
   "codemirror_mode": {
    "name": "ipython",
    "version": 3
   },
   "file_extension": ".py",
   "mimetype": "text/x-python",
   "name": "python",
   "nbconvert_exporter": "python",
   "pygments_lexer": "ipython3",
   "version": "3.12.7"
  }
 },
 "nbformat": 4,
 "nbformat_minor": 5
}
